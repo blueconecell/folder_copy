{
 "cells": [
  {
   "cell_type": "code",
   "execution_count": 40,
   "id": "8f735471",
   "metadata": {},
   "outputs": [],
   "source": [
    "import shutil\n",
    "from openpyxl import Workbook\n",
    "from openpyxl import load_workbook\n",
    "import os"
   ]
  },
  {
   "cell_type": "code",
   "execution_count": 41,
   "id": "5dad9ed2",
   "metadata": {},
   "outputs": [],
   "source": [
    "# shutil.copytree(소스 디렉토리, 복사할 대상) 전체복사\n"
   ]
  },
  {
   "cell_type": "code",
   "execution_count": 42,
   "id": "748509df",
   "metadata": {},
   "outputs": [],
   "source": [
    "folder_list = list(os.listdir(\"C:/Users/User/Desktop/work/(부시똘)공사현장사진\"))\n",
    "wb = load_workbook('(부시똘)공사현장사진_폴더별등급_20220630.xlsx')\n",
    "ws = wb.active"
   ]
  },
  {
   "cell_type": "code",
   "execution_count": 44,
   "id": "97189901",
   "metadata": {},
   "outputs": [],
   "source": [
    "a=[]\n",
    "b=[]\n",
    "c=[]\n",
    "\n",
    "for i in range(len(folder_list)):\n",
    "    if ws[f'D{i+7}'].value == 'A등급':\n",
    "        a.append(ws[f'C{i+7}'].value)\n",
    "    elif ws[f'D{i+7}'].value == 'B등급':\n",
    "        b.append(ws[f'C{i+7}'].value)\n",
    "    elif ws[f'D{i+7}'].value == 'C등급':\n",
    "        c.append(ws[f'C{i+7}'].value)\n",
    "\n",
    "\n",
    "for i in a:\n",
    "    shutil.copytree(\"C:/Users/User/Desktop/work/(부시똘)공사현장사진/\"+i,\"C:/Users/User/Desktop/work/분류_A/\"+i)\n",
    "for i in b:\n",
    "    shutil.copytree(\"C:/Users/User/Desktop/work/(부시똘)공사현장사진/\"+i,\"C:/Users/User/Desktop/work/분류_B/\"+i)\n",
    "for i in c:\n",
    "    shutil.copytree(\"C:/Users/User/Desktop/work/(부시똘)공사현장사진/\"+i,\"C:/Users/User/Desktop/work/분류_C/\"+i)"
   ]
  },
  {
   "cell_type": "code",
   "execution_count": null,
   "id": "24f0024d",
   "metadata": {},
   "outputs": [],
   "source": []
  }
 ],
 "metadata": {
  "kernelspec": {
   "display_name": "Python 3 (ipykernel)",
   "language": "python",
   "name": "python3"
  },
  "language_info": {
   "codemirror_mode": {
    "name": "ipython",
    "version": 3
   },
   "file_extension": ".py",
   "mimetype": "text/x-python",
   "name": "python",
   "nbconvert_exporter": "python",
   "pygments_lexer": "ipython3",
   "version": "3.9.7"
  }
 },
 "nbformat": 4,
 "nbformat_minor": 5
}
